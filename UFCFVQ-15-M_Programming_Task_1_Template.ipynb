{
 "cells": [
  {
   "cell_type": "markdown",
   "metadata": {
    "deletable": false
   },
   "source": [
    "# UFCFVQ-15-M Programming for Data Science (Autumn 2022)\n"
   ]
  },
  {
   "cell_type": "markdown",
   "metadata": {
    "deletable": false
   },
   "source": [
    "<p style=\"color:red; font-weight:bold; font-size:xx-small\">OVERALL COURSEWORK MARK: ___%</p>"
   ]
  },
  {
   "cell_type": "markdown",
   "metadata": {
    "deletable": false
   },
   "source": [
    "### GitLab link submission, README.md file and Git commit messages\n",
    "<p style=\"color:red; font-weight:bold; font-size:xx-small\">MARK: __%</p>\n",
    "<p style=\"color:red; font-weight:bold; font-size:xx-small\">FEEDBACK: </p>"
   ]
  },
  {
   "attachments": {},
   "cell_type": "markdown",
   "metadata": {
    "deletable": false
   },
   "source": [
    "# Programming Task 1\n",
    "\n",
    "## Student Id: 20171926"
   ]
  },
  {
   "cell_type": "markdown",
   "metadata": {
    "deletable": false
   },
   "source": [
    "### Requirement FR1 - Develop a function to find the arithmetic mean"
   ]
  },
  {
   "cell_type": "code",
   "execution_count": 2,
   "metadata": {
    "deletable": false
   },
   "outputs": [
    {
     "name": "stdout",
     "output_type": "stream",
     "text": [
      "47.62\n"
     ]
    }
   ],
   "source": [
    "# Function to calculate the arithmetic mean of a list\n",
    "# parameters : list of elements to calculate the mean value\n",
    "# return value : arithmetic mean value of the given list\n",
    "def calMeanVal (dataList):\n",
    "    # get the length of the data list using len \n",
    "    num_of_elements = len(dataList)\n",
    "    # declare the var totalsum and initialize it with 0\n",
    "    totalSum = 0\n",
    "    totalSum = sum(dataList)\n",
    "    # declare the var mean and initialize it with 0\n",
    "    mean = 0\n",
    "    # to avoid the devition by 0, check if the len of the list is > 0\n",
    "    if num_of_elements > 0:\n",
    "        # Calculate the mean value \n",
    "        mean = totalSum / num_of_elements\n",
    "\n",
    "    return mean\n",
    "\n",
    "# Test the calMeanVal function with example data set\n",
    "dataList = [85, 29, 35, 55, 82, 45, 42, 21, 42, 60, 56, 30, 72, 56, 37, 65, 29, 14, 66,  43, 23, 39, 81, 56, 74, 29, 22, 27, 14, 66, 55, 33, 31, 66, 63, 41, 30, 48, 68, 58, 51, 44, 66, 34, 20, 71, 59, 57, 43, 48]\n",
    "print(calMeanVal(dataList))"
   ]
  },
  {
   "cell_type": "markdown",
   "metadata": {
    "deletable": false
   },
   "source": [
    "<p style=\"color:red; font-weight:bold; font-size:xx-small\">MARK: __%</p>\n",
    "<p style=\"color:red; font-weight:bold; font-size:xx-small\">FEEDBACK: </p>"
   ]
  },
  {
   "cell_type": "markdown",
   "metadata": {
    "deletable": false
   },
   "source": [
    "### Requirement FR2 - Develop a function to read a single column from a CSV file"
   ]
  },
  {
   "cell_type": "code",
   "execution_count": null,
   "metadata": {
    "deletable": false
   },
   "outputs": [],
   "source": [
    "# replace with your code"
   ]
  },
  {
   "cell_type": "markdown",
   "metadata": {
    "deletable": false
   },
   "source": [
    "<p style=\"color:red; font-weight:bold; font-size:xx-small\">MARK: __%</p>\n",
    "<p style=\"color:red; font-weight:bold; font-size:xx-small\">FEEDBACK: </p>"
   ]
  },
  {
   "cell_type": "markdown",
   "metadata": {
    "deletable": false
   },
   "source": [
    "### Requirement FR3 - Develop a function to read CSV data from a file into memory"
   ]
  },
  {
   "cell_type": "code",
   "execution_count": null,
   "metadata": {
    "deletable": false
   },
   "outputs": [],
   "source": [
    "# Function to determine if the column is int/flot\n",
    "# Parameter - column value in string format\n",
    "# return value - int/float based on given value\n",
    "def getColumnType(value):\n",
    "    # Declare variable called dataType and initialized it as None\n",
    "    dataType = None;\n",
    "    try:\n",
    "        numericVal = int(value)\n",
    "        dataType = int;\n",
    "    except ValueError:\n",
    "        numericVal = float(value)\n",
    "        dataType = float;\n",
    "\n",
    "    return dataType\n",
    "\n",
    "# Function to read the specified column from a csv file\n",
    "# parameters - data file name, column index\n",
    "# return value - column name & the column data in list format\n",
    "def extractColFromFile (fileName, colIdx) :\n",
    "    try:\n",
    "        columnName = \"\" # colName to be retuned, intialize as an empty string\n",
    "        datalist = [] # datalist to be returned, initialize as an empty list value\n",
    "        with open(fileName) as file: # read the file\n",
    "            firstLine = file.readline().strip() # read the first line of the file\n",
    "            colCount = firstLine.count(',') + 1 # Get the column count\n",
    "            contents = [x.strip() for x in file.readlines()] # first the data from the file from second line\n",
    "\n",
    "            # Check if the given column index in within the range 0 - n\n",
    "            floatCount = 0\n",
    "            if colIdx in range(0, colCount):\n",
    "                columnName = firstLine.split(',')[colIdx] # Get the column name from the headers\n",
    "                for line in contents:\n",
    "                    columns = line.split(',') # convert string with \",\" to a list\n",
    "                    for idx, data in enumerate(columns):\n",
    "                        if (idx == colIdx): # Check if the idx is same as the given column index\n",
    "                            if (getColumnType(data) == float):\n",
    "                                floatCount+= 1\n",
    "                            datalist.append(data) # Add to datalist\n",
    "                \n",
    "                if (floatCount > 0): \n",
    "                    classType = float\n",
    "                else:\n",
    "                    classType = int\n",
    "                result = list(map(classType, datalist))\n",
    "                # Return columnName and list which includes specified column data\n",
    "                return columnName, result\n",
    "            else: # if the given column index value out of range, eg: -1, > column count\n",
    "                print(\"Invalid column index value\");\n",
    "\n",
    "\n",
    "    except OSError as err: # captures errors related to OS functionality\n",
    "        print(err) # print the exception details\n",
    "\n",
    "# Test the function with the datafile and column index\n",
    "result = extractColFromFile(\"task1.csv\", 3)\n",
    "print(result)"
   ]
  },
  {
   "cell_type": "markdown",
   "metadata": {
    "deletable": false
   },
   "source": [
    "<p style=\"color:red; font-weight:bold; font-size:xx-small\">MARK: __%</p>\n",
    "<p style=\"color:red; font-weight:bold; font-size:xx-small\">FEEDBACK: </p>"
   ]
  },
  {
   "cell_type": "markdown",
   "metadata": {
    "deletable": false
   },
   "source": [
    "### Requirement FR4 - Develop a function to calculate the Pearson Correlation Coefficient for two named columns"
   ]
  },
  {
   "cell_type": "code",
   "execution_count": null,
   "metadata": {
    "deletable": false
   },
   "outputs": [],
   "source": [
    "# replace with your code"
   ]
  },
  {
   "cell_type": "markdown",
   "metadata": {
    "deletable": false
   },
   "source": [
    "<p style=\"color:red; font-weight:bold; font-size:xx-small\">MARK: __%</p>\n",
    "<p style=\"color:red; font-weight:bold; font-size:xx-small\">FEEDBACK: </p>"
   ]
  },
  {
   "cell_type": "markdown",
   "metadata": {
    "deletable": false
   },
   "source": [
    "### Requirement FR5 - Develop a function to generate a set of Pearson Correlation Coefficients for a given data file "
   ]
  },
  {
   "cell_type": "code",
   "execution_count": null,
   "metadata": {
    "deletable": false
   },
   "outputs": [],
   "source": [
    "# replace with your code"
   ]
  },
  {
   "cell_type": "markdown",
   "metadata": {
    "deletable": false
   },
   "source": [
    "<p style=\"color:red; font-weight:bold; font-size:xx-small\">MARK: __%</p>\n",
    "<p style=\"color:red; font-weight:bold; font-size:xx-small\">FEEDBACK: </p>"
   ]
  },
  {
   "cell_type": "markdown",
   "metadata": {
    "deletable": false
   },
   "source": [
    "### Requirement FR6 - Develop a function to print a custom table"
   ]
  },
  {
   "cell_type": "code",
   "execution_count": null,
   "metadata": {
    "deletable": false
   },
   "outputs": [],
   "source": [
    "# replace with your code"
   ]
  },
  {
   "cell_type": "markdown",
   "metadata": {
    "deletable": false
   },
   "source": [
    "<p style=\"color:red; font-weight:bold; font-size:xx-small\">MARK: __%</p>\n",
    "<p style=\"color:red; font-weight:bold; font-size:xx-small\">FEEDBACK: </p>"
   ]
  },
  {
   "cell_type": "markdown",
   "metadata": {
    "deletable": false
   },
   "source": [
    "# Coding Standards\n",
    "<p style=\"color:red; font-weight:bold; font-size:xx-small\">MARK: __%</p>\n",
    "<p style=\"color:red; font-weight:bold; font-size:xx-small\">FEEDBACK: </p>"
   ]
  },
  {
   "cell_type": "markdown",
   "metadata": {
    "deletable": false
   },
   "source": [
    "# Process Development Report for Task 1\n"
   ]
  },
  {
   "cell_type": "markdown",
   "metadata": {},
   "source": [
    "add markdown text here"
   ]
  },
  {
   "cell_type": "markdown",
   "metadata": {
    "deletable": false
   },
   "source": [
    "<p style=\"color:red; font-weight:bold; font-size:xx-small\">MARK: __%</p>\n",
    "<p style=\"color:red; font-weight:bold; font-size:xx-small\">FEEDBACK: </p>"
   ]
  }
 ],
 "metadata": {
  "kernelspec": {
   "display_name": "Python 3",
   "language": "python",
   "name": "python3"
  },
  "language_info": {
   "codemirror_mode": {
    "name": "ipython",
    "version": 3
   },
   "file_extension": ".py",
   "mimetype": "text/x-python",
   "name": "python",
   "nbconvert_exporter": "python",
   "pygments_lexer": "ipython3",
   "version": "3.9.6"
  },
  "vscode": {
   "interpreter": {
    "hash": "81794d4967e6c3204c66dcd87b604927b115b27c00565d3d43f05ba2f3a2cb0d"
   }
  }
 },
 "nbformat": 4,
 "nbformat_minor": 4
}
