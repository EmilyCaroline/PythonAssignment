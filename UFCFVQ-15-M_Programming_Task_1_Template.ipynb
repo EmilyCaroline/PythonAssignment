{
 "cells": [
  {
   "cell_type": "markdown",
   "metadata": {
    "deletable": false
   },
   "source": [
    "# UFCFVQ-15-M Programming for Data Science (Autumn 2022)\n"
   ]
  },
  {
   "cell_type": "markdown",
   "metadata": {
    "deletable": false
   },
   "source": [
    "<p style=\"color:red; font-weight:bold; font-size:xx-small\">OVERALL COURSEWORK MARK: ___%</p>"
   ]
  },
  {
   "cell_type": "markdown",
   "metadata": {
    "deletable": false
   },
   "source": [
    "### GitLab link submission, README.md file and Git commit messages\n",
    "<p style=\"color:red; font-weight:bold; font-size:xx-small\">MARK: __%</p>\n",
    "<p style=\"color:red; font-weight:bold; font-size:xx-small\">FEEDBACK: </p>"
   ]
  },
  {
   "attachments": {},
   "cell_type": "markdown",
   "metadata": {
    "deletable": false
   },
   "source": [
    "# Programming Task 1\n",
    "\n",
    "## Student Id: 20171926"
   ]
  },
  {
   "cell_type": "markdown",
   "metadata": {
    "deletable": false
   },
   "source": [
    "### Requirement FR1 - Develop a function to find the arithmetic mean"
   ]
  },
  {
   "cell_type": "code",
   "execution_count": 2,
   "metadata": {
    "deletable": false
   },
   "outputs": [
    {
     "name": "stdout",
     "output_type": "stream",
     "text": [
      "47.62\n"
     ]
    }
   ],
   "source": [
    "# Function to calculate the arithmetic mean of a list\n",
    "# parameters : list of elements to calculate the mean value\n",
    "# return value : arithmetic mean value of the given list\n",
    "def calMeanVal (dataList):\n",
    "    # get the length of the data list using len \n",
    "    num_of_elements = len(dataList)\n",
    "    # declare the var totalsum and initialize it with 0\n",
    "    totalSum = 0\n",
    "    totalSum = sum(dataList)\n",
    "    # declare the var mean and initialize it with 0\n",
    "    mean = 0\n",
    "    # to avoid the devition by 0, check if the len of the list is > 0\n",
    "    if num_of_elements > 0:\n",
    "        # Calculate the mean value \n",
    "        mean = totalSum / num_of_elements\n",
    "\n",
    "    return mean\n",
    "\n",
    "# Test the calMeanVal function with example data set\n",
    "dataList = [85, 29, 35, 55, 82, 45, 42, 21, 42, 60, 56, 30, 72, 56, 37, 65, 29, 14, 66,  43, 23, 39, 81, 56, 74, 29, 22, 27, 14, 66, 55, 33, 31, 66, 63, 41, 30, 48, 68, 58, 51, 44, 66, 34, 20, 71, 59, 57, 43, 48]\n",
    "print(calMeanVal(dataList))"
   ]
  },
  {
   "cell_type": "markdown",
   "metadata": {
    "deletable": false
   },
   "source": [
    "<p style=\"color:red; font-weight:bold; font-size:xx-small\">MARK: __%</p>\n",
    "<p style=\"color:red; font-weight:bold; font-size:xx-small\">FEEDBACK: </p>"
   ]
  },
  {
   "cell_type": "markdown",
   "metadata": {
    "deletable": false
   },
   "source": [
    "### Requirement FR2 - Develop a function to read a single column from a CSV file"
   ]
  },
  {
   "cell_type": "code",
   "execution_count": 4,
   "metadata": {
    "deletable": false
   },
   "outputs": [
    {
     "name": "stdout",
     "output_type": "stream",
     "text": [
      "('share_black', [30.5, 36.2, 7.7, 0.6, 1.4, 7.7, 0.3, 0.2, 17.7, 7.7, 0.9, 0.6, 7.6, 23.5, 27.0, 58.4, 16.2, 6.9, 7.5, 5.1, 2.3, 10.7, 4.4, 0.9, 2.2, 1.8, 6.0, 7.4, 3.4, 1.2, 66.4, 98.6, 4.3, 0.6, 12.3, 9.5, 23.7, 3.4, 0.9, 44.4, 2.4, 2.6, 4.0, 14.5, 0.2, 11.7, 85.1, 31.7, 0.3, 0.1, 7.8, 17.7, 98.9, 0.8, 0.0, 4.5, 1.4, 1.1, 0.1, 47.3, 0.6, 0.3, 7.7, 6.4, 6.0, 18.9, 0.9, 0.0, 0.5, 98.4, 67.5, 31.8, 1.4, 54.9, 20.2, 1.7, 3.0, 21.7, 6.4, 36.5, 5.4, 3.7, 0.3, 15.0, 4.9, 7.7, 51.0, 81.2, 83.1, 0.0, 0.4, 2.8, 11.0, 15.8, 6.4, 0.1, 54.6, 75.7, 4.9, 52.6, 32.1, 44.0, 0.1, 13.7, 1.3, 9.8, 6.1, 8.5, 3.2, 2.9, 25.0, 3.9, 0.0, 47.8, 2.1, 1.8, 0.0, 1.8, 22.0, 86.4, 94.4, 19.5, 6.7, 22.8, 5.1, 84.8, 46.1, 0.1, 3.0, 0.3, 5.0, 42.7, 22.1, 0.0, 81.6, 9.0, 4.7, 24.1, 53.0, 2.1, 17.5, 77.8, 0.9, 5.8, 86.4, 8.1, 16.3, 18.6, 0.9, 23.8, 0.0, 0.3, 2.1, 5.9, 3.5, 0.2, 0.0, 4.4, 75.1, 0.5, 6.1, 30.9, 1.3, 27.1, 19.0, 57.3, 99.4, 9.1, 28.5, 9.3, 0.7, 0.8, 0.6, 0.3, 15.0, 7.4, 10.8, 24.2, 4.6, 8.6, 0.2, 9.5, 3.0, 0.8, 3.4, 18.9, 35.9, 62.2, 99.8, 9.8, 10.6, 6.6, 34.3, 43.7, 0.1, 27.1, 11.0, 0.0, 0.7, 57.6, 0.2, 2.5, 21.4, 0.0, 1.6, 93.1, 0.3, 88.0, 19.6, 68.6, 0.0, 19.7, 27.2, 53.0, 1.2, 32.1, 60.0, 17.7, 59.4, 95.0, 0.2, 2.2, 34.0, 0.4, 8.1, 34.0, 35.1, 21.0, 9.4, 8.8, 1.2, 43.2, 0.0, 31.2, 29.8, 12.6, 11.5, 0.5, 0.0, 74.2, 5.1, 1.6, 3.7, 34.2, 0.0, 11.7, 1.4, 4.9, 16.6, 18.3, 4.4, 9.1, 30.0, 4.9, 24.5, 2.7, 8.5, 3.8, 13.1, 1.7, 24.9, 9.3, 9.4, 0.7, 1.8, 1.0, 8.9, 0.3, 22.7, 4.6, 40.7, 1.5, 21.4, 17.2, 9.1, 20.5, 3.5, 93.6, 17.4, 4.0, 26.3, 0.3, 24.6, 29.3, 1.1, 0.0, 17.6, 34.1, 1.3, 0.6, 11.1, 83.0, 59.4, 59.4, 5.1, 0.0, 92.7, 0.1, 8.6, 0.6, 0.1, 0.0, 2.0, 87.2, 42.3, 31.8, 75.3, 4.4, 0.4, 16.5, 0.7, 7.0, 92.8, 7.8, 28.2, 9.9, 7.1, 0.9, 0.9, 2.3, 2.6, 1.3, 2.3, 1.8, 89.1, 1.1, 2.0, 0.4, 0.2, 17.8, 45.6, 11.1, 0.7, 15.7, 0.0, 9.8, 0.9, 4.1, 16.3, 24.0, 17.8, 2.0, 5.6, 2.2, 4.5, 13.6, 45.7, 12.0, 0.9, 5.3, 19.7, 84.2, 3.2, 8.7, 14.5, 1.6, 0.2, 7.1, 1.3, 23.0, 16.6, 25.3, 1.9, 21.3, 3.3, 8.5, 60.3, 9.8, 3.5, 1.0, 10.7, 5.6, 95.6, 0.3, 0.3, 3.4, 25.5, 0.0, 0.5, 2.3, 6.1, 6.4, 10.5, 1.5, 0.0, 5.5, 2.5, 1.5, 0.0, 85.3, 23.8, 1.4, 8.8, 67.0, 0.8, 10.7, 0.9, 0.2, 10.4, 6.3, 11.5, 15.5, 0.4, 1.5, 0.0, 0.8, 8.6, 2.8, 2.1, 38.8, 0.0, 11.3, 13.4, 10.9, 28.2, 22.4, 8.0, 3.1, 11.3, 16.9, 2.6, 20.6, 43.4, 92.4, 40.0, 14.6, 5.5, 79.2, 92.5, 43.7, 98.6, 2.2, 0.0, 0.6, 2.6, 5.3, 0.9, 8.1, 0.6, 0.4, 1.3, 28.6, 25.9, 0.0, 0.0, 3.1, 8.8, 31.9, 37.0, 6.5, 10.0, 65.2, 0.9, 0.0, 1.4, 16.9, 53.8, 0.4, 10.1, 24.9, 4.0])\n"
     ]
    }
   ],
   "source": [
    "# Function to determine if the column is int/flot\n",
    "# Parameter - column value in string format\n",
    "# return value - int/float based on given value\n",
    "def getColumnType(value):\n",
    "    # Declare variable called dataType and initialized it as None\n",
    "    dataType = None;\n",
    "    try:\n",
    "        numericVal = int(value)\n",
    "        dataType = int;\n",
    "    except ValueError:\n",
    "        numericVal = float(value)\n",
    "        dataType = float;\n",
    "\n",
    "    return dataType\n",
    "\n",
    "# Function to read the specified column from a csv file\n",
    "# parameters - data file name, column index\n",
    "# return value - column name & the column data in list format\n",
    "def extractColFromFile (fileName, colIdx) :\n",
    "    try:\n",
    "        columnName = \"\" # colName to be retuned, intialize as an empty string\n",
    "        datalist = [] # datalist to be returned, initialize as an empty list value\n",
    "        with open(fileName) as file: # read the file\n",
    "            firstLine = file.readline().strip() # read the first line of the file\n",
    "            colCount = firstLine.count(',') + 1 # Get the column count\n",
    "            contents = [x.strip() for x in file.readlines()] # first the data from the file from second line\n",
    "\n",
    "            # Check if the given column index in within the range 0 - n\n",
    "            floatCount = 0\n",
    "            if colIdx in range(0, colCount):\n",
    "                columnName = firstLine.split(',')[colIdx] # Get the column name from the headers\n",
    "                for line in contents:\n",
    "                    columns = line.split(',') # convert string with \",\" to a list\n",
    "                    for idx, data in enumerate(columns):\n",
    "                        if (idx == colIdx): # Check if the idx is same as the given column index\n",
    "                            if (getColumnType(data) == float):\n",
    "                                floatCount+= 1\n",
    "                            datalist.append(data) # Add to datalist\n",
    "                \n",
    "                if (floatCount > 0): \n",
    "                    classType = float\n",
    "                else:\n",
    "                    classType = int\n",
    "                result = list(map(classType, datalist))\n",
    "                # Return columnName and list which includes specified column data\n",
    "                return columnName, result\n",
    "            else: # if the given column index value out of range, eg: -1, > column count\n",
    "                print(\"Invalid column index value\");\n",
    "\n",
    "\n",
    "    except OSError as err: # captures errors related to OS functionality\n",
    "        print(err) # print the exception details\n",
    "\n",
    "# Test the function with the datafile and column index\n",
    "result = extractColFromFile(\"task1.csv\", 3)\n",
    "print(result)"
   ]
  },
  {
   "cell_type": "markdown",
   "metadata": {
    "deletable": false
   },
   "source": [
    "<p style=\"color:red; font-weight:bold; font-size:xx-small\">MARK: __%</p>\n",
    "<p style=\"color:red; font-weight:bold; font-size:xx-small\">FEEDBACK: </p>"
   ]
  },
  {
   "cell_type": "markdown",
   "metadata": {
    "deletable": false
   },
   "source": [
    "### Requirement FR3 - Develop a function to read CSV data from a file into memory"
   ]
  },
  {
   "cell_type": "code",
   "execution_count": null,
   "metadata": {
    "deletable": false
   },
   "outputs": [],
   "source": [
    "# Function to read csv file data and store them into dictionary data structure\n",
    "# parameters - data file name\n",
    "# return value - a dictionary data structure with the data read from csv\n",
    "def readFileDataToMemory(fileName):\n",
    "    try:\n",
    "    # open and read the given file\n",
    "        with open(fileName) as file: # read the file\n",
    "            firstLine = file.readline().strip() # read the first line of the file\n",
    "            colCount = firstLine.count(',') + 1 # Get the column count\n",
    "\n",
    "            headers = [] # a list to store headers \n",
    "            data = [] # a list to store data\n",
    "            result =  {} # a dictionary to store result data\n",
    "            for i in range(0, colCount): # To read all the columns from the csv file - column index start from 0\n",
    "                columnData = extractColFromFile(fileName, i) # extract the col data from the file for each column index\n",
    "                headers.append(columnData[0]) # Push each column header into headers list\n",
    "                data.append(columnData[1]) #  Push each column data into data list\n",
    "\n",
    "            result = dict(zip(headers, data)) # convert result to a list\n",
    "        return result\n",
    "\n",
    "    except FileNotFoundError as err: # captures errors related to File Not Found\n",
    "        print(err) # print the exception details\n",
    "        \n",
    "\n",
    "    \n",
    "print(readFileDataToMemory(\"task1.csv\"))"
   ]
  },
  {
   "cell_type": "markdown",
   "metadata": {
    "deletable": false
   },
   "source": [
    "<p style=\"color:red; font-weight:bold; font-size:xx-small\">MARK: __%</p>\n",
    "<p style=\"color:red; font-weight:bold; font-size:xx-small\">FEEDBACK: </p>"
   ]
  },
  {
   "cell_type": "markdown",
   "metadata": {
    "deletable": false
   },
   "source": [
    "### Requirement FR4 - Develop a function to calculate the Pearson Correlation Coefficient for two named columns"
   ]
  },
  {
   "cell_type": "code",
   "execution_count": null,
   "metadata": {
    "deletable": false
   },
   "outputs": [],
   "source": [
    "# replace with your code"
   ]
  },
  {
   "cell_type": "markdown",
   "metadata": {
    "deletable": false
   },
   "source": [
    "<p style=\"color:red; font-weight:bold; font-size:xx-small\">MARK: __%</p>\n",
    "<p style=\"color:red; font-weight:bold; font-size:xx-small\">FEEDBACK: </p>"
   ]
  },
  {
   "cell_type": "markdown",
   "metadata": {
    "deletable": false
   },
   "source": [
    "### Requirement FR5 - Develop a function to generate a set of Pearson Correlation Coefficients for a given data file "
   ]
  },
  {
   "cell_type": "code",
   "execution_count": null,
   "metadata": {
    "deletable": false
   },
   "outputs": [],
   "source": [
    "# replace with your code"
   ]
  },
  {
   "cell_type": "markdown",
   "metadata": {
    "deletable": false
   },
   "source": [
    "<p style=\"color:red; font-weight:bold; font-size:xx-small\">MARK: __%</p>\n",
    "<p style=\"color:red; font-weight:bold; font-size:xx-small\">FEEDBACK: </p>"
   ]
  },
  {
   "cell_type": "markdown",
   "metadata": {
    "deletable": false
   },
   "source": [
    "### Requirement FR6 - Develop a function to print a custom table"
   ]
  },
  {
   "cell_type": "code",
   "execution_count": null,
   "metadata": {
    "deletable": false
   },
   "outputs": [],
   "source": [
    "# replace with your code"
   ]
  },
  {
   "cell_type": "markdown",
   "metadata": {
    "deletable": false
   },
   "source": [
    "<p style=\"color:red; font-weight:bold; font-size:xx-small\">MARK: __%</p>\n",
    "<p style=\"color:red; font-weight:bold; font-size:xx-small\">FEEDBACK: </p>"
   ]
  },
  {
   "cell_type": "markdown",
   "metadata": {
    "deletable": false
   },
   "source": [
    "# Coding Standards\n",
    "<p style=\"color:red; font-weight:bold; font-size:xx-small\">MARK: __%</p>\n",
    "<p style=\"color:red; font-weight:bold; font-size:xx-small\">FEEDBACK: </p>"
   ]
  },
  {
   "cell_type": "markdown",
   "metadata": {
    "deletable": false
   },
   "source": [
    "# Process Development Report for Task 1\n"
   ]
  },
  {
   "cell_type": "markdown",
   "metadata": {},
   "source": [
    "add markdown text here"
   ]
  },
  {
   "cell_type": "markdown",
   "metadata": {
    "deletable": false
   },
   "source": [
    "<p style=\"color:red; font-weight:bold; font-size:xx-small\">MARK: __%</p>\n",
    "<p style=\"color:red; font-weight:bold; font-size:xx-small\">FEEDBACK: </p>"
   ]
  }
 ],
 "metadata": {
  "kernelspec": {
   "display_name": "Python 3",
   "language": "python",
   "name": "python3"
  },
  "language_info": {
   "codemirror_mode": {
    "name": "ipython",
    "version": 3
   },
   "file_extension": ".py",
   "mimetype": "text/x-python",
   "name": "python",
   "nbconvert_exporter": "python",
   "pygments_lexer": "ipython3",
   "version": "3.9.6"
  },
  "vscode": {
   "interpreter": {
    "hash": "81794d4967e6c3204c66dcd87b604927b115b27c00565d3d43f05ba2f3a2cb0d"
   }
  }
 },
 "nbformat": 4,
 "nbformat_minor": 4
}
